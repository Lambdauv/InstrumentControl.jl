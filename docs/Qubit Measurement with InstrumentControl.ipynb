{
 "cells": [
  {
   "cell_type": "code",
   "execution_count": null,
   "metadata": {
    "collapsed": true
   },
   "outputs": [],
   "source": [
    "using Revise\n",
    "using InstrumentControl\n",
    "using InstrumentControl:E5071C, GS200, SMB100A, AWGM320XA, DigitizerM3102A \n",
    "using AxisArrays\n",
    "using KeysightQubits\n",
    "using KeysightInstruments\n",
    "using JLD, FileIO, LsqFit\n",
    "import Plots\n",
    "Plots.plotlyjs()\n",
    "\n",
    "import InstrumentControl: Stimulus, Response, Instrument, source, measure, PropertyStimulus\n",
    "\n",
    "dB(x)= 20*log10(abs(x))\n",
    "phas(x)=atan2(imag(x),real(x))"
   ]
  },
  {
   "cell_type": "markdown",
   "metadata": {},
   "source": [
    "# Equipment Initialization"
   ]
  },
  {
   "cell_type": "markdown",
   "metadata": {},
   "source": [
    "### Yokogawa GS200 DC Source"
   ]
  },
  {
   "cell_type": "code",
   "execution_count": null,
   "metadata": {
    "collapsed": true
   },
   "outputs": [],
   "source": [
    "yoko = InsGS200(tcpip_socket(\"169.254.65.200\",7655))  #initializing instrument object\n",
    "Vz = RampStim(yoko) "
   ]
  },
  {
   "cell_type": "markdown",
   "metadata": {},
   "source": [
    "### R&S SMB100A Signal Generators"
   ]
  },
  {
   "cell_type": "code",
   "execution_count": null,
   "metadata": {
    "collapsed": true
   },
   "outputs": [],
   "source": [
    "#iinitializing signal generator instrument objects\n",
    "sigRead = InsSMB100A(tcpip_instr(\"169.254.1.20\")) \n",
    "sigXY = InsSMB100A(tcpip_instr(\"169.254.235.224\"))"
   ]
  },
  {
   "cell_type": "code",
   "execution_count": null,
   "metadata": {
    "collapsed": true
   },
   "outputs": [],
   "source": [
    "#defining stimuli for changing signal generator power and frequencies\n",
    "xyPowerStim = PropertyStimulus(sigXY, PowerLevel, axisname=:xypower, axislabel=\"XY power (dBm)\")\n",
    "xyFreqStim = PropertyStimulus(sigXY, Frequency, axisname=:xyf, axislabel=\"XY frequency (GHz)\");\n",
    "readoutFreqStim = PropertyStimulus(sigRead, Frequency, axisname=:readf, axislabel=\"Readout frequency (GHz)\");"
   ]
  },
  {
   "cell_type": "markdown",
   "metadata": {},
   "source": [
    "### E5071C Vector Network Analyzer(VNA)"
   ]
  },
  {
   "cell_type": "code",
   "execution_count": null,
   "metadata": {
    "collapsed": true
   },
   "outputs": [],
   "source": [
    "vna = InsE5071C(tcpip_socket(\"169.254.61.208\",5025)) #initializing signal generator instrument object\n",
    "readavailable(vna)\n",
    "#NOTE!: THE LAST COMMAND IS SUPPOSED TO GIVE AN VI_ERROR_TMO; THAT IS JUST A BUG"
   ]
  },
  {
   "cell_type": "code",
   "execution_count": null,
   "metadata": {
    "collapsed": true
   },
   "outputs": [],
   "source": [
    "S_ParamsResponse = VNA.FrequencySweep(vna) #redefinition for convenience; this is a response object which measures S parameters \n",
    "VNAPowerStim = PropertyStimulus(vna, PowerLevel, axisname=:vnapower, axislabel=\"VNA power (dBm)\")"
   ]
  },
  {
   "cell_type": "markdown",
   "metadata": {},
   "source": [
    "### Keysight Hardware"
   ]
  },
  {
   "cell_type": "code",
   "execution_count": null,
   "metadata": {
    "collapsed": true
   },
   "outputs": [],
   "source": [
    "#The inputs to the constructors are slot numbers\n",
    "awg2 = InsAWGM320XA(2) \n",
    "awg4 = InsAWGM320XA(4)\n",
    "dig = InsDigitizerM3102A(6)"
   ]
  },
  {
   "cell_type": "code",
   "execution_count": null,
   "metadata": {
    "collapsed": true
   },
   "outputs": [],
   "source": [
    "#Defining stimulus for DC biasing with slow AWG\n",
    "key_Vz = Keysight_Vz(awg4, 1)  #inputs are: particular AWG in chassis, and channel number"
   ]
  },
  {
   "cell_type": "markdown",
   "metadata": {},
   "source": [
    "# Finding Readout Resonator and Qubit Frequencies (Frequency Domain)"
   ]
  },
  {
   "cell_type": "code",
   "execution_count": null,
   "metadata": {
    "collapsed": true
   },
   "outputs": [],
   "source": [
    "#configuring VNA settings to measure S21 \n",
    "vna[TriggerSource] = :InternalTrigger\n",
    "vna[NumPoints] = 1001\n",
    "vna[IFBandwidth] = 2000.\n",
    "vna[Smoothing] = false\n",
    "vna[Averaging] = true\n",
    "vna[AveragingFactor] = 1\n",
    "vna[VNA.Parameter] = :S21\n",
    "vna[Timeout]=10000"
   ]
  },
  {
   "cell_type": "code",
   "execution_count": null,
   "metadata": {
    "collapsed": true
   },
   "outputs": [],
   "source": [
    "#imaging VNA S21 measurement at frequency range of interest --> Looking for resonator lorentzian\n",
    "vna[PowerLevel] = -55\n",
    "vna[FrequencyStart] = 6.883e9\n",
    "vna[FrequencyStop] = 6.89e9\n",
    "measure(S_ParamsResponse)\n",
    "screen(vna)"
   ]
  },
  {
   "cell_type": "code",
   "execution_count": null,
   "metadata": {
    "collapsed": true
   },
   "outputs": [],
   "source": [
    "#Saturating resonator to see transition from |0> dispersed dressed resonance to bare cavity resonance\n",
    "vna[FrequencyStart] = 6.875e9\n",
    "vna[FrequencyStop] = 6.89e9\n",
    "\n",
    "sweep(S_ParamsResponse, (VNAPowerStim, -60:5:-10))"
   ]
  },
  {
   "cell_type": "code",
   "execution_count": null,
   "metadata": {
    "collapsed": true
   },
   "outputs": [],
   "source": [
    "r = result(1)[:S21] #fill in job number here\n",
    "Plots.heatmap(axisvalues(r)[2], axisvalues(r)[1]/1e9, dB.(r), xl=\"Readout power (dBm)\", yl=\"VNA frequency (GHz)\")"
   ]
  },
  {
   "cell_type": "markdown",
   "metadata": {},
   "source": [
    "#### |0> dispersed frequency:\n",
    "#### bare cavity frequency: \n",
    "#### χ = "
   ]
  },
  {
   "cell_type": "markdown",
   "metadata": {},
   "source": [
    "### Finding SQUID Frequency Period and Zero Flux Offset, in Volts "
   ]
  },
  {
   "cell_type": "code",
   "execution_count": null,
   "metadata": {
    "collapsed": true
   },
   "outputs": [],
   "source": [
    "#Tuning qubit from max resonance to zero frequency with Z-line.If ω_r> ω_q_max, then as V_z is increased until it's... \n",
    "# half period value --> the qubit goes to zero frequency --> the detuning increases --> the dispersive shift decreases --> \n",
    "# readout resonance changes\n",
    "# If ω_r < ω_q_max, then you will see an avoided level crossing \n",
    "\n",
    "vna[PowerLevel] = -60\n",
    "vna[FrequencyStart] = 6.875e9\n",
    "vna[FrequencyStop] = 6.89e9\n",
    "\n",
    "sweep(S_ParamsResponse, (Vz, -0.8:0.025:0.8))"
   ]
  },
  {
   "cell_type": "code",
   "execution_count": null,
   "metadata": {
    "collapsed": true
   },
   "outputs": [],
   "source": [
    "r = result(2)[:S21]\n",
    "Plots.heatmap(axisvalues(r)[2], axisvalues(r)[1]/1e9, dB.(r), xl=\"Vz (V)\", yl=\"VNA frequency (GHz)\")"
   ]
  },
  {
   "cell_type": "markdown",
   "metadata": {},
   "source": [
    "#### V_offset = \n",
    "#### V_period = "
   ]
  },
  {
   "cell_type": "markdown",
   "metadata": {
    "collapsed": true
   },
   "source": [
    "### Finding Qubit Frequency"
   ]
  },
  {
   "cell_type": "code",
   "execution_count": null,
   "metadata": {
    "collapsed": true
   },
   "outputs": [],
   "source": [
    "# measuring S21, in the vicinity of the readout resonator |0> dispersed frequency, while sweeping XY frequency with the... \n",
    "#... signal generator generator. If sigXY[Frequency] = frequency, the qubit is Rabi oscillating so fast compared to Ω that... \n",
    "#... the resonator only sees an average of the two qubit states, i.e. motional averaging\n",
    "vna[PowerLevel] = -60\n",
    "vna[FrequencyStart] = 6.880e9\n",
    "vna[FrequencyStop] = 6.888e9\n",
    "source(V_z, 0.025) #source voltage offset so qubit is at maximum frequency\n",
    "\n",
    "sweep(S_ParamsResponse, (xyFreqStim, 4.2e9:1e6:5.2e9), (xyPowerStim, [-20, -30, -40, -50]))"
   ]
  },
  {
   "cell_type": "code",
   "execution_count": null,
   "metadata": {
    "collapsed": true
   },
   "outputs": [],
   "source": [
    "# -20dBm power\n",
    "r = result(6058)[Axis{:sparam}(:S21), Axis{:xypower}(1)]\n",
    "Plots.heatmap(axisvalues(r)[2]/1e9, axisvalues(r)[1]/1e9, dB.(r), xl=\"XY frequency (GHz)\", yl=\"VNA frequency (GHz)\")"
   ]
  },
  {
   "cell_type": "code",
   "execution_count": null,
   "metadata": {
    "collapsed": true
   },
   "outputs": [],
   "source": [
    "#-30dBm Power\n",
    "r = result(6057)[Axis{:sparam}(:S21), Axis{:xypower}(2)]\n",
    "Plots.heatmap(axisvalues(r)[2]/1e9, axisvalues(r)[1]/1e9, dB.(r), xl=\"XY frequency (GHz)\", yl=\"VNA frequency (GHz)\")"
   ]
  },
  {
   "cell_type": "code",
   "execution_count": null,
   "metadata": {
    "collapsed": true
   },
   "outputs": [],
   "source": [
    "#-40dBm Power\n",
    "r = result(6057)[Axis{:sparam}(:S21), Axis{:xypower}(3)]\n",
    "Plots.heatmap(axisvalues(r)[2]/1e9, axisvalues(r)[1]/1e9, dB.(r), xl=\"XY frequency (GHz)\", yl=\"VNA frequency (GHz)\")"
   ]
  },
  {
   "cell_type": "code",
   "execution_count": null,
   "metadata": {
    "collapsed": true
   },
   "outputs": [],
   "source": [
    "# -50dBm power\n",
    "r = result(6057)[Axis{:sparam}(:S21), Axis{:xypower}(4)]\n",
    "Plots.heatmap(axisvalues(r)[2]/1e9, axisvalues(r)[1]/1e9, dB.(r), xl=\"XY frequency (GHz)\", yl=\"VNA frequency (GHz)\")"
   ]
  },
  {
   "cell_type": "markdown",
   "metadata": {},
   "source": [
    "# Finding Resonator/Qubit Frequencies and Rabi Period (Time Domain)"
   ]
  },
  {
   "cell_type": "markdown",
   "metadata": {},
   "source": [
    "#### The delay (in number of digitizer samples) needed to start acquisition of I and Q signal after marker arrival at the digitizer was determined to be 125 samples = 250ns. Briefly, 20dB of attenuation after readout up-conversion, without using the on-rack 17dB amplifier (before down-conversion), was enough to obtain a 40mVpp pulse with IF amplitude = 1. This signal was then measured with the digitizer (i.e., the voltage levels), and the delay was determined to be 125 samples (250ns). The normal rack configuration (needed to reach low photon levels) uses 40dB of attenuation after up-conversion, along with a ~17dB amplifier prior to downconversion. The normal configuration leads to really noisy output (you can't make out a pulse by visual inspection of the signal), but with the demodulation to DC plus averaging, you can really pick out the IF tone"
   ]
  },
  {
   "cell_type": "markdown",
   "metadata": {},
   "source": [
    "#### NOTE: We put ~ 30dB of attenuation on the XY line. Through testing, we saw that, even in the abscence of a pulse, we saw the frequency response of the cavity change in comparison to when sigXY is off AT VARIOUS FREQUENCIES. This implies carrier bleedthrough and the spectrum analyzer confirms that. To ameliorate the issue, we added attenuation on the output of the XY line and increased the amplitude voltage out of the AWG (for consistent XY power when outputting a pulse). This allows us to use high LO power for proper functioning of the IQ mixer, while still letting us bring down the carrier bleedthrough to manageable levels. Increasing the IF also further isolates the qubit from carrier bleedthrough."
   ]
  },
  {
   "cell_type": "markdown",
   "metadata": {},
   "source": [
    "#### Pulses, Stimulus, and Response Initialization"
   ]
  },
  {
   "cell_type": "code",
   "execution_count": null,
   "metadata": {
    "collapsed": true
   },
   "outputs": [],
   "source": [
    "πpulse_length = 400e-9\n",
    "π_2pulse_length = 200e-9 #has to be a multiple of 10ns\n",
    "xyIF = 175e6\n",
    "readoutIF = 100e6\n",
    "XY_amplitude = 0.25\n",
    "readout_amplitude = 0.15\n",
    "\n",
    "rabiPulse = AnalogPulse(xyIF, XY_amplitude, 0) #placeholder pulse, has no duration or waveforms. 0 corresponds to IF phase\n",
    "Xπ = AnalogPulse(xyIF, XY_amplitude, πpulse_length, CosEnvelope, awg4[SampleRate])\n",
    "Xπ_2 = AnalogPulse(xyIF, XY_amplitude, π_2pulse_length, CosEnvelope, awg4[SampleRate])\n",
    "readout = DigitalPulse(readoutIF, readout_amplitude, 500e-9, RectEnvelope, awg4[SampleRate])\n",
    "\n",
    "#the functions take for standard arguments: marker channel = 4, control PXI line = 0, and standard axisname and axislabel inputs \n",
    "stim_readRef = ReadoutReference(awg4, awg2, readout, 60e-6, (2,3))\n",
    "stim_Rabi = Rabi(awg4, awg4, awg2, rabiPulse, readout, 60e-6, 60e-6, (1,4), (2,3))\n",
    "stim_T1 = T1(awg4, awg4, awg2, Xπ, readout, 60e-6, 60e-6, (1,4), (2,3))\n",
    "stim_Ramsey = Ramsey(awg4, awg4, awg2, Xπ_2, readout, 60e-6, 60e-6, (1,4), (2,3))\n",
    "\n",
    "num_averages = 5000\n",
    "readout_num_samples = readout.duration*dig[SampleRate]\n",
    "resp_IQ = IQTrigResponse(dig, 1, 2, num_averages, readout_num_samples, 125, :TRGPort, 100e6) #averaging for 10000 times\n",
    "_avgIQnew = Avg_IQResponse(resp_IQ);"
   ]
  },
  {
   "cell_type": "markdown",
   "metadata": {},
   "source": [
    "### Finding Resonator Frequency"
   ]
  },
  {
   "cell_type": "code",
   "execution_count": null,
   "metadata": {
    "collapsed": true
   },
   "outputs": [],
   "source": [
    "source(Vz, 0.025) #source voltage offset so qubit is at maximum frequency\n",
    "configure_awgs(stim_readRef)\n",
    "source(stim_readRef)\n",
    "sweep(_avgIQnew, (readoutFreqStim, (6.980e9:0.1e6:6.989e9)))"
   ]
  },
  {
   "cell_type": "code",
   "execution_count": null,
   "metadata": {
    "collapsed": true
   },
   "outputs": [],
   "source": [
    "r = result(6257)\n",
    "Plots.plot(axisvalues(r)[1]/1e9, abs.(r), xl=\"Readout LO Frequency (GHz)\", yl=\"IF Amplitude\")"
   ]
  },
  {
   "cell_type": "markdown",
   "metadata": {},
   "source": [
    "#### |0> dispersed resonator frequency:"
   ]
  },
  {
   "cell_type": "markdown",
   "metadata": {},
   "source": [
    "### Finding Qubit Frequency "
   ]
  },
  {
   "cell_type": "code",
   "execution_count": null,
   "metadata": {
    "collapsed": true
   },
   "outputs": [],
   "source": [
    "source(readoutFreqStim, 6.9867e9) #this should be the resonator's dispersed |0> frequency\n",
    "source(Vz, 0.032) #source voltage offset so qubit is at maximum frequency\n",
    "configure_awgs(stim_Rabi)\n",
    "source(stim_Rabi, πpulse_length) \n",
    "sweep(_avgIQnew, (xyFreqStim, 4.65e9:0.5e6:4.9e9))"
   ]
  },
  {
   "cell_type": "code",
   "execution_count": null,
   "metadata": {
    "collapsed": true
   },
   "outputs": [],
   "source": [
    "r = result(6292)\n",
    "Plots.plot(axisvalues(r)[1]/1e9, abs.(r), xl=\"XY LO Frequency (GHz)\", yl=\"IF Amplitude\")"
   ]
  },
  {
   "cell_type": "markdown",
   "metadata": {},
   "source": [
    "#### Qubit frequency:"
   ]
  },
  {
   "cell_type": "markdown",
   "metadata": {},
   "source": [
    "### Finding Rabi Period"
   ]
  },
  {
   "cell_type": "code",
   "execution_count": null,
   "metadata": {
    "collapsed": true
   },
   "outputs": [],
   "source": [
    "source(readoutFreqStim, 6.9867e9) #this should be the resonator's dispersed |0> frequency\n",
    "source(xyFreqStim, 4.87e9)\n",
    "source(Vz, 0.025) #source voltage offset so qubit is at maximum frequency\n",
    "sweep(_avgIQnew, (stim_Rabi, 20e-9:10e-9:2e-6))"
   ]
  },
  {
   "cell_type": "code",
   "execution_count": null,
   "metadata": {
    "collapsed": true
   },
   "outputs": [],
   "source": [
    "r = result(6293)\n",
    "Plots.plot(axisvalues(r)[1]*1e9, abs.(r), xl=\"Time (ns)\", yl=\"IF Amplitude\" )"
   ]
  },
  {
   "cell_type": "markdown",
   "metadata": {},
   "source": [
    "#### Pi pulse length: "
   ]
  },
  {
   "cell_type": "markdown",
   "metadata": {},
   "source": [
    "# Chevron, T1, and T2*"
   ]
  },
  {
   "cell_type": "markdown",
   "metadata": {},
   "source": [
    "### Chevron Pattern"
   ]
  },
  {
   "cell_type": "code",
   "execution_count": null,
   "metadata": {
    "collapsed": true
   },
   "outputs": [],
   "source": [
    "source(readoutFreqStim, 6.9867e9) #this should be the resonator's dispersed |0> frequency\n",
    "source(Vz, 0.025) #source voltage offset so qubit is at maximum frequency\n",
    "sweep(_avgIQnew, (stim_Rabi, 20e-9:10e-9:2e-6), (xyFreqStim, 4.86e9:1e6:4.88e9))"
   ]
  },
  {
   "cell_type": "code",
   "execution_count": null,
   "metadata": {
    "collapsed": true
   },
   "outputs": [],
   "source": [
    "r = result(6239)\n",
    "Plots.heatmap(axisvalues(r)[1]*1e9, (axisvalues(r)[2] - xyIF)/1e9, dB.(r), xl=\"Pulse duration (ns)\", yl=\"XY Frequency (GHz)\")"
   ]
  },
  {
   "cell_type": "markdown",
   "metadata": {},
   "source": [
    "### Measuring T1"
   ]
  },
  {
   "cell_type": "code",
   "execution_count": null,
   "metadata": {
    "collapsed": true
   },
   "outputs": [],
   "source": [
    "source(readoutFreqStim, 6.9867e9) #this should be the resonator's dispersed |0> frequency\n",
    "source(xyFreqStim, 4.87e9)\n",
    "source(Vz, 0.025) #source voltage offset so qubit is at maximum frequency\n",
    "configure_awgs(stim_T1)\n",
    "sweep(_avgIQnew, (stim_T1, 20e-9:100e-9:50e-6))"
   ]
  },
  {
   "cell_type": "code",
   "execution_count": null,
   "metadata": {
    "collapsed": true
   },
   "outputs": [],
   "source": [
    "r = result(6308)\n",
    "Plots.plot(axisvalues(r)[1]*1e6, abs.(r), xl = \"Delay (μs)\" , yl = \"Amplitude\", label = \"Data\")"
   ]
  },
  {
   "cell_type": "code",
   "execution_count": null,
   "metadata": {
    "collapsed": true
   },
   "outputs": [],
   "source": [
    "Plots.plot(axisvalues(r)[2]*1e6, abs.(r), xl = \"Delay (μs)\", yl = \"IF Amplitude\", label = \"Data\")\n",
    "t1fit(x,p) = @. p[1]*exp(-x/p[2])+p[3]\n",
    "fit = curve_fit(t1fit, axisvalues(r)[2]*1e6, Float64.(abs.(r)), [0.0029, 20, 1])\n",
    "Plots.plot!(axisvalues(r)[2]*1e6, t1fit(axisvalues(r)[2]*1e6, fit.param), label = \"Fit T1 =\"*string(fit.param[2])[1:4]*\"μs\")"
   ]
  },
  {
   "cell_type": "markdown",
   "metadata": {},
   "source": [
    "### Measuring T2*"
   ]
  },
  {
   "cell_type": "code",
   "execution_count": null,
   "metadata": {
    "collapsed": true
   },
   "outputs": [],
   "source": [
    "source(readoutFreqStim, 6.9867e9) #this should be the resonator's dispersed |0> frequency\n",
    "source(xyFreqStim, 4.87e9)\n",
    "source(Vz, 0.025) #source voltage offset so qubit is at maximum frequency\n",
    "configure_awgs(stim_Ramsey)\n",
    "sweep(_avgIQnew, (stim_Ramsey, 20e-9:100e-9:50e-6))"
   ]
  },
  {
   "cell_type": "code",
   "execution_count": null,
   "metadata": {
    "collapsed": true
   },
   "outputs": [],
   "source": [
    "r = result(6308)\n",
    "Plots.plot(axisvalues(r)[1]*1e6, abs.(r), xl = \"Delay (μs)\" , yl = \"Amplitude\", label = \"Data\")"
   ]
  },
  {
   "cell_type": "code",
   "execution_count": null,
   "metadata": {
    "collapsed": true
   },
   "outputs": [],
   "source": [
    "t2fit(x,p) = @. p[1]*exp(-x/p[2])*cos(x*(2π/p[3])-p[4])+p[5]\n",
    "fit = curve_fit(t2fit, axisvalues(r)[2]*1e6, Float64.(abs.(r)), [1, 1 ,1, 1, 0.00286358])\n",
    "Plots.plot(axisvalues(r)[2]*1e6, abs.(r), xl = \"Delay (ns)\" , yl = \"Amplitude\", label = \"Data\")\n",
    "Plots.plot!(axisvalues(r)[2]*1e6, t2fit(axisvalues(r)[2]*1e6, fit.param), label = \"Fit T2 =\"*string(fit.param[2])[1:4]*\"μs\")"
   ]
  }
 ],
 "metadata": {
  "kernelspec": {
   "display_name": "Julia 0.6.0",
   "language": "julia",
   "name": "julia-0.6"
  },
  "language_info": {
   "file_extension": ".jl",
   "mimetype": "application/julia",
   "name": "julia",
   "version": "0.6.0"
  }
 },
 "nbformat": 4,
 "nbformat_minor": 1
}
